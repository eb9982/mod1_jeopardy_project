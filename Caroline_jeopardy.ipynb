{
 "cells": [
  {
   "cell_type": "code",
   "execution_count": 6,
   "metadata": {},
   "outputs": [],
   "source": [
    "def json_to_games_df(json_dict):\n",
    "    game_info = []\n",
    "    for game in json_dict:\n",
    "        show_id = game\n",
    "        for key in json_dict[game]:\n",
    "            date = json_dict[game][\"Date\"]\n",
    "            players = json_dict[game][\"Players\"]\n",
    "            results = json_dict[game][\"results\"]\n",
    "\n",
    "\n",
    "        game_info.append({\"Show_IDs\": show_id, \"Date\": date, \"Players\" : players, \"Results\" : results})\n",
    "    \n",
    "    return pd.DataFrame(game_info)\n",
    "\n",
    "\n",
    "def json_to_clues_df(json_dict):\n",
    "    \n",
    "    all_clues = []\n",
    "    for game in json_dict:\n",
    "        show_id = game\n",
    "        for clue in json_dict[game]['jeopardy_round']:\n",
    "\n",
    "            clue_text = clue['clue_text']\n",
    "            clue_answer = clue['clue_answer']\n",
    "            clue_answerer = clue['clue_answerer']\n",
    "            clue_value = clue['clue_value']\n",
    "\n",
    "            try:\n",
    "                answerer_correct = clue['Answerer Correct?']\n",
    "            except:\n",
    "                answerer_correct = None\n",
    "\n",
    "            try: \n",
    "                category = clue['category']\n",
    "            except:\n",
    "                category = None\n",
    "\n",
    "            try:\n",
    "                clue_id = clue['clue_id'] \n",
    "            except:\n",
    "                clue_id = None\n",
    "\n",
    "            all_clues.append({\"show_id\": show_id, \"round\" : 'jeopardy_round', 'category': category, \"clue_id\": clue_id, \"clue_text\": clue_text, \"answerer\": clue_answerer, 'clue_value' : clue_value })\n",
    "\n",
    "        for clue in json_dict[game]['double_jeopardy_round']:\n",
    "            clue_text = clue['clue_text']\n",
    "            clue_answer = clue['clue_answer']\n",
    "            clue_answerer = clue['clue_answerer']\n",
    "            clue_value = clue['clue_value']\n",
    "\n",
    "            try:\n",
    "                answerer_correct = clue['Answerer Correct?']\n",
    "            except:\n",
    "                answerer_correct = None\n",
    "\n",
    "            try: \n",
    "                category = clue['category']\n",
    "            except:\n",
    "                category = None\n",
    "\n",
    "            try:\n",
    "                clue_id = clue['clue_id'] \n",
    "            except:\n",
    "                clue_id = None\n",
    "\n",
    "            all_clues.append({\"show_id\": show_id, \"round\" : 'double_jeopardy_round', 'category': category, \"clue_id\": clue_id, \"clue_text\": clue_text, \"answerer\": clue_answerer, 'clue_value' : clue_value })  \n",
    "\n",
    "    return pd.DataFrame(all_clues)\n",
    "        \n",
    "        \n",
    "        \n",
    "\n",
    "\n"
   ]
  },
  {
   "cell_type": "code",
   "execution_count": 10,
   "metadata": {},
   "outputs": [],
   "source": [
    "import pandas as pd\n",
    "import json\n",
    "with open(\"all_games.txt\", \"r\") as read_file:\n",
    "    all_games_json = json.load(read_file)         \n",
    "\n"
   ]
  },
  {
   "cell_type": "code",
   "execution_count": 11,
   "metadata": {},
   "outputs": [],
   "source": [
    "clues_df = json_to_clues_df(all_games_json)"
   ]
  },
  {
   "cell_type": "code",
   "execution_count": null,
   "metadata": {},
   "outputs": [],
   "source": [
    "games_df = json_to_games_df(all_clues_)"
   ]
  }
 ],
 "metadata": {
  "kernelspec": {
   "display_name": "learn-env",
   "language": "python",
   "name": "learn-env"
  },
  "language_info": {
   "codemirror_mode": {
    "name": "ipython",
    "version": 3
   },
   "file_extension": ".py",
   "mimetype": "text/x-python",
   "name": "python",
   "nbconvert_exporter": "python",
   "pygments_lexer": "ipython3",
   "version": "3.6.6"
  }
 },
 "nbformat": 4,
 "nbformat_minor": 2
}
